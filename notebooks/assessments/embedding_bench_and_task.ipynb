{
 "cells": [
  {
   "cell_type": "code",
   "execution_count": 1,
   "metadata": {},
   "outputs": [
    {
     "name": "stdout",
     "output_type": "stream",
     "text": [
      "💡 lamindb instance: jkobject/scprint\n"
     ]
    },
    {
     "name": "stderr",
     "output_type": "stream",
     "text": [
      "2024-02-08 08:46:48,725:INFO - Created a temporary directory at /tmp/tmpt955hinb\n",
      "2024-02-08 08:46:48,728:INFO - Writing /tmp/tmpt955hinb/_remote_module_non_scriptable.py\n",
      "/home/ml4ig1/miniconda3/envs/scprint/lib/python3.10/site-packages/chex/_src/pytypes.py:53: DeprecationWarning: jax.core.Shape is deprecated. Use Shape = Sequence[int | Any].\n",
      "  Shape = jax.core.Shape\n",
      "/home/ml4ig1/miniconda3/envs/scprint/lib/python3.10/site-packages/chex/_src/pytypes.py:54: DeprecationWarning: jax.random.KeyArray is deprecated. Use jax.Array for annotations, and jax.dtypes.issubdtype(arr.dtype, jax.dtypes.prng_key) for runtime detection of typed prng keys (i.e. keys created with jax.random.key).\n",
      "For more information, see https://jax.readthedocs.io/en/latest/jep/9263-typed-keys.html\n",
      "  PRNGKey = jax.random.KeyArray\n",
      "2024-02-08 08:46:48,728:INFO - Writing /tmp/tmpt955hinb/_remote_module_non_scriptable.py\n",
      "/home/ml4ig1/miniconda3/envs/scprint/lib/python3.10/site-packages/chex/_src/pytypes.py:53: DeprecationWarning: jax.core.Shape is deprecated. Use Shape = Sequence[int | Any].\n",
      "  Shape = jax.core.Shape\n",
      "/home/ml4ig1/miniconda3/envs/scprint/lib/python3.10/site-packages/chex/_src/pytypes.py:54: DeprecationWarning: jax.random.KeyArray is deprecated. Use jax.Array for annotations, and jax.dtypes.issubdtype(arr.dtype, jax.dtypes.prng_key) for runtime detection of typed prng keys (i.e. keys created with jax.random.key).\n",
      "For more information, see https://jax.readthedocs.io/en/latest/jep/9263-typed-keys.html\n",
      "  PRNGKey = jax.random.KeyArray\n"
     ]
    }
   ],
   "source": [
    "## import\n",
    "import lamindb as ln\n",
    "import scanpy as sc\n",
    "\n",
    "from scprint import scPrint\n",
    "from scprint.dataloader import Collator, AnnDataCollator\n",
    "from scdataloader.data import SimpleAnnDataset, Dataset\n",
    "from scdataloader import Preprocessor\n",
    "from torch.utils.data import DataLoader\n",
    "\n",
    "from scdataloader.utils import load_genes\n",
    "\n",
    "from lightning.pytorch import Trainer\n",
    "\n",
    "import numpy as np\n",
    "import anndata as ad\n",
    "from scipy.sparse import csr_matrix\n",
    "import pandas as pd\n",
    "import tqdm\n",
    "\n",
    "from scvi.data import AnnDataManager\n",
    "from scvi.data.fields import CategoricalObsField, LayerField\n",
    "from scvi.dataloaders import AnnDataLoader\n",
    "import scvi\n",
    "\n",
    "from scib_metrics.benchmark import Benchmarker\n",
    "\n",
    "%load_ext autoreload\n",
    "%autoreload 2"
   ]
  },
  {
   "cell_type": "markdown",
   "metadata": {},
   "source": [
    "## preparing the model"
   ]
  },
  {
   "cell_type": "code",
   "execution_count": null,
   "metadata": {},
   "outputs": [],
   "source": [
    "model = scPrint.load_from_checkpoint('../../data/tensorboard/scprint_test/p1qh74w4/checkpoints/epoch=0-step=20212.ckpt')"
   ]
  },
  {
   "cell_type": "code",
   "execution_count": null,
   "metadata": {},
   "outputs": [],
   "source": [
    "ensembl = load_genes(['NCBITaxon:9606'])\n",
    "ensembl['ensembl_gene_id'] = ensembl.index"
   ]
  },
  {
   "cell_type": "markdown",
   "metadata": {},
   "source": [
    "## Loading the data"
   ]
  },
  {
   "cell_type": "code",
   "execution_count": null,
   "metadata": {},
   "outputs": [
    {
     "name": "stderr",
     "output_type": "stream",
     "text": [
      "/home/ml4ig1/miniconda3/envs/scprint/lib/python3.10/site-packages/anndata/__init__.py:51: FutureWarning: `anndata.read` is deprecated, use `anndata.read_h5ad` instead. `ad.read` will be removed in mid 2024.\n",
      "  warnings.warn(\n",
      "/home/ml4ig1/miniconda3/envs/scprint/lib/python3.10/site-packages/anndata/_io/specs/registry.py:249: OldFormatWarning: Element '/X' was written without encoding metadata.\n",
      "  return self.callback(read_func, elem.name, elem, iospec=get_spec(elem))\n",
      "/home/ml4ig1/miniconda3/envs/scprint/lib/python3.10/site-packages/anndata/_io/specs/registry.py:249: OldFormatWarning: Element '/X' was written without encoding metadata.\n",
      "  return self.callback(read_func, elem.name, elem, iospec=get_spec(elem))\n",
      "/home/ml4ig1/miniconda3/envs/scprint/lib/python3.10/site-packages/anndata/_io/specs/registry.py:249: OldFormatWarning: Element '/layers' was written without encoding metadata.\n",
      "  return self.callback(read_func, elem.name, elem, iospec=get_spec(elem))\n",
      "/home/ml4ig1/miniconda3/envs/scprint/lib/python3.10/site-packages/anndata/_io/specs/registry.py:249: OldFormatWarning: Element '/layers/counts' was written without encoding metadata.\n",
      "  return self.callback(read_func, elem.name, elem, iospec=get_spec(elem))\n",
      "/home/ml4ig1/miniconda3/envs/scprint/lib/python3.10/site-packages/anndata/_io/utils.py:205: OldFormatWarning: Element '/obs/__categories/tech' was written without encoding metadata.\n",
      "  return func(*args, **kwargs)\n",
      "/home/ml4ig1/miniconda3/envs/scprint/lib/python3.10/site-packages/anndata/_io/utils.py:205: OldFormatWarning: Element '/obs/tech' was written without encoding metadata.\n",
      "  return func(*args, **kwargs)\n",
      "/home/ml4ig1/miniconda3/envs/scprint/lib/python3.10/site-packages/anndata/_io/utils.py:205: OldFormatWarning: Element '/obs/__categories/celltype' was written without encoding metadata.\n",
      "  return func(*args, **kwargs)\n",
      "/home/ml4ig1/miniconda3/envs/scprint/lib/python3.10/site-packages/anndata/_io/utils.py:205: OldFormatWarning: Element '/obs/celltype' was written without encoding metadata.\n",
      "  return func(*args, **kwargs)\n",
      "/home/ml4ig1/miniconda3/envs/scprint/lib/python3.10/site-packages/anndata/_io/utils.py:205: OldFormatWarning: Element '/obs/size_factors' was written without encoding metadata.\n",
      "  return func(*args, **kwargs)\n",
      "/home/ml4ig1/miniconda3/envs/scprint/lib/python3.10/site-packages/anndata/_io/utils.py:205: OldFormatWarning: Element '/obs/_index' was written without encoding metadata.\n",
      "  return func(*args, **kwargs)\n",
      "/home/ml4ig1/miniconda3/envs/scprint/lib/python3.10/site-packages/anndata/_io/utils.py:205: OldFormatWarning: Element '/var/_index' was written without encoding metadata.\n",
      "  return func(*args, **kwargs)\n"
     ]
    }
   ],
   "source": [
    "adata = sc.read(\n",
    "    \"data/pancreas_atlas.h5ad\",\n",
    "    backup_url=\"https://figshare.com/ndownloader/files/24539828\",\n",
    ")\n"
   ]
  },
  {
   "cell_type": "code",
   "execution_count": null,
   "metadata": {},
   "outputs": [
    {
     "name": "stderr",
     "output_type": "stream",
     "text": [
      "/home/ml4ig1/miniconda3/envs/scprint/lib/python3.10/site-packages/anndata/__init__.py:51: FutureWarning: `anndata.read` is deprecated, use `anndata.read_h5ad` instead. `ad.read` will be removed in mid 2024.\n",
      "  warnings.warn(\n",
      "/home/ml4ig1/miniconda3/envs/scprint/lib/python3.10/site-packages/anndata/_io/specs/registry.py:249: OldFormatWarning: Element '/layers' was written without encoding metadata.\n",
      "  return self.callback(read_func, elem.name, elem, iospec=get_spec(elem))\n",
      "/home/ml4ig1/miniconda3/envs/scprint/lib/python3.10/site-packages/anndata/_io/utils.py:205: OldFormatWarning: Element '/obs/__categories/dataset' was written without encoding metadata.\n",
      "  return func(*args, **kwargs)\n",
      "/home/ml4ig1/miniconda3/envs/scprint/lib/python3.10/site-packages/anndata/_io/utils.py:205: OldFormatWarning: Element '/obs/dataset' was written without encoding metadata.\n",
      "  return func(*args, **kwargs)\n",
      "/home/ml4ig1/miniconda3/envs/scprint/lib/python3.10/site-packages/anndata/_io/utils.py:205: OldFormatWarning: Element '/obs/__categories/location' was written without encoding metadata.\n",
      "  return func(*args, **kwargs)\n",
      "/home/ml4ig1/miniconda3/envs/scprint/lib/python3.10/site-packages/anndata/_io/utils.py:205: OldFormatWarning: Element '/obs/location' was written without encoding metadata.\n",
      "  return func(*args, **kwargs)\n",
      "/home/ml4ig1/miniconda3/envs/scprint/lib/python3.10/site-packages/anndata/_io/utils.py:205: OldFormatWarning: Element '/obs/nGene' was written without encoding metadata.\n",
      "  return func(*args, **kwargs)\n",
      "/home/ml4ig1/miniconda3/envs/scprint/lib/python3.10/site-packages/anndata/_io/utils.py:205: OldFormatWarning: Element '/obs/nUMI' was written without encoding metadata.\n",
      "  return func(*args, **kwargs)\n",
      "/home/ml4ig1/miniconda3/envs/scprint/lib/python3.10/site-packages/anndata/_io/utils.py:205: OldFormatWarning: Element '/obs/__categories/patientGroup' was written without encoding metadata.\n",
      "  return func(*args, **kwargs)\n",
      "/home/ml4ig1/miniconda3/envs/scprint/lib/python3.10/site-packages/anndata/_io/utils.py:205: OldFormatWarning: Element '/obs/patientGroup' was written without encoding metadata.\n",
      "  return func(*args, **kwargs)\n",
      "/home/ml4ig1/miniconda3/envs/scprint/lib/python3.10/site-packages/anndata/_io/utils.py:205: OldFormatWarning: Element '/obs/percent.mito' was written without encoding metadata.\n",
      "  return func(*args, **kwargs)\n",
      "/home/ml4ig1/miniconda3/envs/scprint/lib/python3.10/site-packages/anndata/_io/utils.py:205: OldFormatWarning: Element '/obs/__categories/protocol' was written without encoding metadata.\n",
      "  return func(*args, **kwargs)\n",
      "/home/ml4ig1/miniconda3/envs/scprint/lib/python3.10/site-packages/anndata/_io/utils.py:205: OldFormatWarning: Element '/obs/protocol' was written without encoding metadata.\n",
      "  return func(*args, **kwargs)\n",
      "/home/ml4ig1/miniconda3/envs/scprint/lib/python3.10/site-packages/anndata/_io/utils.py:205: OldFormatWarning: Element '/obs/__categories/sanger_type' was written without encoding metadata.\n",
      "  return func(*args, **kwargs)\n",
      "/home/ml4ig1/miniconda3/envs/scprint/lib/python3.10/site-packages/anndata/_io/utils.py:205: OldFormatWarning: Element '/obs/sanger_type' was written without encoding metadata.\n",
      "  return func(*args, **kwargs)\n",
      "/home/ml4ig1/miniconda3/envs/scprint/lib/python3.10/site-packages/anndata/_io/utils.py:205: OldFormatWarning: Element '/obs/size_factors' was written without encoding metadata.\n",
      "  return func(*args, **kwargs)\n",
      "/home/ml4ig1/miniconda3/envs/scprint/lib/python3.10/site-packages/anndata/_io/utils.py:205: OldFormatWarning: Element '/obs/__categories/sampling_method' was written without encoding metadata.\n",
      "  return func(*args, **kwargs)\n",
      "/home/ml4ig1/miniconda3/envs/scprint/lib/python3.10/site-packages/anndata/_io/utils.py:205: OldFormatWarning: Element '/obs/sampling_method' was written without encoding metadata.\n",
      "  return func(*args, **kwargs)\n",
      "/home/ml4ig1/miniconda3/envs/scprint/lib/python3.10/site-packages/anndata/_io/utils.py:205: OldFormatWarning: Element '/obs/__categories/batch' was written without encoding metadata.\n",
      "  return func(*args, **kwargs)\n",
      "/home/ml4ig1/miniconda3/envs/scprint/lib/python3.10/site-packages/anndata/_io/utils.py:205: OldFormatWarning: Element '/obs/batch' was written without encoding metadata.\n",
      "  return func(*args, **kwargs)\n",
      "/home/ml4ig1/miniconda3/envs/scprint/lib/python3.10/site-packages/anndata/_io/utils.py:205: OldFormatWarning: Element '/obs/__categories/cell_type' was written without encoding metadata.\n",
      "  return func(*args, **kwargs)\n",
      "/home/ml4ig1/miniconda3/envs/scprint/lib/python3.10/site-packages/anndata/_io/utils.py:205: OldFormatWarning: Element '/obs/cell_type' was written without encoding metadata.\n",
      "  return func(*args, **kwargs)\n",
      "/home/ml4ig1/miniconda3/envs/scprint/lib/python3.10/site-packages/anndata/_io/utils.py:205: OldFormatWarning: Element '/obs/__categories/donor' was written without encoding metadata.\n",
      "  return func(*args, **kwargs)\n",
      "/home/ml4ig1/miniconda3/envs/scprint/lib/python3.10/site-packages/anndata/_io/utils.py:205: OldFormatWarning: Element '/obs/donor' was written without encoding metadata.\n",
      "  return func(*args, **kwargs)\n",
      "/home/ml4ig1/miniconda3/envs/scprint/lib/python3.10/site-packages/anndata/_io/utils.py:205: OldFormatWarning: Element '/obs/index' was written without encoding metadata.\n",
      "  return func(*args, **kwargs)\n",
      "/home/ml4ig1/miniconda3/envs/scprint/lib/python3.10/site-packages/anndata/_io/utils.py:205: OldFormatWarning: Element '/var/index' was written without encoding metadata.\n",
      "  return func(*args, **kwargs)\n"
     ]
    }
   ],
   "source": [
    "#adata = sc.read(\n",
    "#    \"data/lung_atlas.h5ad\",\n",
    "#    backup_url=\"https://figshare.com/ndownloader/files/24539942\",\n",
    "#)"
   ]
  },
  {
   "cell_type": "code",
   "execution_count": null,
   "metadata": {},
   "outputs": [],
   "source": [
    "#adata = sc.read_h5ad('/home/ml4ig1/scprint/.lamindb/BljRloq1xjcxRNDpejzI.h5ad')"
   ]
  },
  {
   "cell_type": "code",
   "execution_count": null,
   "metadata": {},
   "outputs": [
    {
     "ename": "ValueError",
     "evalue": "Data is not raw counts, please check layers, find raw data, or bypass with force_preprocess",
     "output_type": "error",
     "traceback": [
      "\u001b[0;31m---------------------------------------------------------------------------\u001b[0m",
      "\u001b[0;31mValueError\u001b[0m                                Traceback (most recent call last)",
      "Cell \u001b[0;32mIn[4], line 1\u001b[0m\n\u001b[0;32m----> 1\u001b[0m \u001b[43mPreprocessor\u001b[49m\u001b[43m(\u001b[49m\u001b[43m)\u001b[49m\u001b[43m(\u001b[49m\u001b[43madata\u001b[49m\u001b[38;5;241;43m.\u001b[39;49m\u001b[43mcopy\u001b[49m\u001b[43m(\u001b[49m\u001b[43m)\u001b[49m\u001b[43m)\u001b[49m\n\u001b[1;32m      2\u001b[0m \u001b[38;5;66;03m# cannot preprocess (first of all not raw counts and also doesn't have standardized values)\u001b[39;00m\n",
      "File \u001b[0;32m~/Documents code/scDataLoader/scdataloader/preprocess.py:114\u001b[0m, in \u001b[0;36mPreprocessor.__call__\u001b[0;34m(self, adata)\u001b[0m\n\u001b[1;32m    110\u001b[0m \u001b[38;5;66;03m# check that it is a count\u001b[39;00m\n\u001b[1;32m    111\u001b[0m \u001b[38;5;28;01mif\u001b[39;00m (\n\u001b[1;32m    112\u001b[0m     adata\u001b[38;5;241m.\u001b[39mX\u001b[38;5;241m.\u001b[39mastype(\u001b[38;5;28mint\u001b[39m)\u001b[38;5;241m.\u001b[39msum() \u001b[38;5;241m!=\u001b[39m adata\u001b[38;5;241m.\u001b[39mX\u001b[38;5;241m.\u001b[39msum() \u001b[38;5;129;01mand\u001b[39;00m \u001b[38;5;129;01mnot\u001b[39;00m \u001b[38;5;28mself\u001b[39m\u001b[38;5;241m.\u001b[39mforce_preprocess\n\u001b[1;32m    113\u001b[0m ):  \u001b[38;5;66;03m# check if likely raw data\u001b[39;00m\n\u001b[0;32m--> 114\u001b[0m     \u001b[38;5;28;01mraise\u001b[39;00m \u001b[38;5;167;01mValueError\u001b[39;00m(\n\u001b[1;32m    115\u001b[0m         \u001b[38;5;124m\"\u001b[39m\u001b[38;5;124mData is not raw counts, please check layers, find raw data, or bypass with force_preprocess\u001b[39m\u001b[38;5;124m\"\u001b[39m\n\u001b[1;32m    116\u001b[0m     )\n\u001b[1;32m    117\u001b[0m     \u001b[38;5;66;03m# please check layers\u001b[39;00m\n\u001b[1;32m    118\u001b[0m     \u001b[38;5;66;03m# if not available count drop\u001b[39;00m\n\u001b[1;32m    119\u001b[0m \u001b[38;5;66;03m# # cleanup and dropping low expressed genes and unexpressed cells\u001b[39;00m\n\u001b[1;32m    120\u001b[0m prevsize \u001b[38;5;241m=\u001b[39m adata\u001b[38;5;241m.\u001b[39mshape[\u001b[38;5;241m0\u001b[39m]\n",
      "\u001b[0;31mValueError\u001b[0m: Data is not raw counts, please check layers, find raw data, or bypass with force_preprocess"
     ]
    }
   ],
   "source": [
    "Preprocessor()(adata.copy())\n",
    "# cannot preprocess (first of all not raw counts and also doesn't have standardized values)"
   ]
  },
  {
   "cell_type": "code",
   "execution_count": null,
   "metadata": {},
   "outputs": [],
   "source": [
    "# You need to use counts\n",
    "adata.X = adata.layers['counts']\n",
    "del adata.layers"
   ]
  },
  {
   "cell_type": "code",
   "execution_count": null,
   "metadata": {},
   "outputs": [
    {
     "data": {
      "text/plain": [
       "AnnData object with n_obs × n_vars = 16382 × 70116\n",
       "    obs: 'tech', 'celltype', 'size_factors', 'organism_ontology_term_id'\n",
       "    var: 'symbol', 'ncbi_gene_id', 'biotype', 'description', 'synonyms', 'mt', 'ribo', 'hb', 'organism'\n",
       "    uns: 'unseen_genes'"
      ]
     },
     "execution_count": 6,
     "metadata": {},
     "output_type": "execute_result"
    }
   ],
   "source": [
    "# you need to have ensembl gene ids \n",
    "# # removing the other ones\n",
    "var = adata.var.merge(ensembl.drop_duplicates('symbol').set_index('symbol', drop=False), left_index=True, right_index=True, how='inner').sort_values(by=\"ensembl_gene_id\").set_index('ensembl_gene_id')\n",
    "adata = adata[:, var['symbol']]\n",
    "adata.var = var\n",
    "\n",
    "# adding back the missing genes\n",
    "unseen = set(ensembl.index) - set(adata.var.index)\n",
    "# adding them to adata\n",
    "emptyda = ad.AnnData(\n",
    "    csr_matrix((adata.shape[0], len(unseen)), dtype=np.float32),\n",
    "    var=pd.DataFrame(index=list(unseen)),\n",
    "    obs=pd.DataFrame(index=adata.obs.index),\n",
    ")\n",
    "adata = ad.concat([adata, emptyda], axis=1, join=\"outer\", merge=\"only\")\n",
    "# do a validation function\n",
    "adata.uns[\"unseen_genes\"] = list(unseen)\n",
    "adata = adata[:, adata.var.sort_index().index]\n",
    "\n",
    "# Add at least the organism you are working with\n",
    "adata.obs['organism_ontology_term_id'] = \"NCBITaxon:9606\"\n",
    "adata"
   ]
  },
  {
   "cell_type": "code",
   "execution_count": null,
   "metadata": {},
   "outputs": [
    {
     "name": "stderr",
     "output_type": "stream",
     "text": [
      "/home/ml4ig1/miniconda3/envs/scprint/lib/python3.10/site-packages/pandas/core/algorithms.py:522: DeprecationWarning: np.find_common_type is deprecated.  Please use `np.result_type` or `np.promote_types`.\n",
      "See https://numpy.org/devdocs/release/1.25.0-notes.html and the docs for more information.  (Deprecated NumPy 1.25)\n",
      "  common = np.find_common_type([values.dtype, comps_array.dtype], [])\n"
     ]
    }
   ],
   "source": [
    "adataset = SimpleAnnDataset(adata, obs_to_output=['organism_ontology_term_id'])\n",
    "col = Collator(organisms=[\"NCBITaxon:9606\",], valid_genes=model.genes, max_len=1000, add_zero_genes=100)#mdataset.encoder['organism_ontology_term_id'])\n",
    "dataloader = DataLoader(adataset, collate_fn=col, batch_size=32, num_workers=2, shuffle=False)"
   ]
  },
  {
   "cell_type": "code",
   "execution_count": null,
   "metadata": {},
   "outputs": [],
   "source": [
    "#dataloader = AnnLoader([adata], collate_fn=AnnDataCollator(max_len=5000, organisms=[\"NCBITaxon:9606\",], org_to_id={'NCBITaxon:9606': 0}), batch_size=32, num_workers=1)"
   ]
  },
  {
   "cell_type": "code",
   "execution_count": null,
   "metadata": {},
   "outputs": [],
   "source": [
    "# dataloader = AnnDataLoader(adata_manager, collate_fn=SCVICollator(max_len=5000, organisms=[\"NCBITaxon:9606\",], org_to_id={'NCBITaxon:9606': 0}), batch_size=32, num_workers=1)"
   ]
  },
  {
   "cell_type": "code",
   "execution_count": null,
   "metadata": {},
   "outputs": [
    {
     "name": "stderr",
     "output_type": "stream",
     "text": [
      "INFO: GPU available: True (cuda), used: True\n",
      "2024-02-07 09:22:38,107:INFO - GPU available: True (cuda), used: True\n",
      "INFO: TPU available: False, using: 0 TPU cores\n",
      "2024-02-07 09:22:38,110:INFO - TPU available: False, using: 0 TPU cores\n",
      "INFO: IPU available: False, using: 0 IPUs\n",
      "2024-02-07 09:22:38,113:INFO - IPU available: False, using: 0 IPUs\n",
      "INFO: HPU available: False, using: 0 HPUs\n",
      "2024-02-07 09:22:38,116:INFO - HPU available: False, using: 0 HPUs\n"
     ]
    }
   ],
   "source": [
    "trainer = Trainer(limit_predict_batches=1000)"
   ]
  },
  {
   "cell_type": "code",
   "execution_count": 14,
   "metadata": {},
   "outputs": [
    {
     "name": "stderr",
     "output_type": "stream",
     "text": [
      "[autoreload of scprint.model.loss failed: Traceback (most recent call last):\n",
      "  File \"/home/ml4ig1/miniconda3/envs/scprint/lib/python3.10/site-packages/IPython/extensions/autoreload.py\", line 276, in check\n",
      "    superreload(m, reload, self.old_objects)\n",
      "  File \"/home/ml4ig1/miniconda3/envs/scprint/lib/python3.10/site-packages/IPython/extensions/autoreload.py\", line 475, in superreload\n",
      "    module = reload(module)\n",
      "  File \"/home/ml4ig1/miniconda3/envs/scprint/lib/python3.10/importlib/__init__.py\", line 169, in reload\n",
      "    _bootstrap._exec(spec, module)\n",
      "  File \"<frozen importlib._bootstrap>\", line 619, in _exec\n",
      "  File \"<frozen importlib._bootstrap_external>\", line 883, in exec_module\n",
      "  File \"<frozen importlib._bootstrap>\", line 241, in _call_with_frames_removed\n",
      "  File \"/home/ml4ig1/Documents code/scPRINT/scprint/model/loss.py\", line 201, in <module>\n",
      "    class Similarity(nn.Module):\n",
      "NameError: name 'nn' is not defined\n",
      "]\n"
     ]
    },
    {
     "data": {
      "text/plain": [
       "['cell_type_ontology_term_id',\n",
       " 'disease_ontology_term_id',\n",
       " 'assay_ontology_term_id',\n",
       " 'self_reported_ethnicity_ontology_term_id',\n",
       " 'sex_ontology_term_id',\n",
       " 'organism_ontology_term_id']"
      ]
     },
     "execution_count": 14,
     "metadata": {},
     "output_type": "execute_result"
    }
   ],
   "source": [
    "model.labels"
   ]
  },
  {
   "cell_type": "code",
   "execution_count": 83,
   "metadata": {},
   "outputs": [
    {
     "name": "stderr",
     "output_type": "stream",
     "text": [
      "INFO: LOCAL_RANK: 0 - CUDA_VISIBLE_DEVICES: [0]\n",
      "2024-02-06 18:45:41,699:INFO - LOCAL_RANK: 0 - CUDA_VISIBLE_DEVICES: [0]\n"
     ]
    },
    {
     "data": {
      "application/vnd.jupyter.widget-view+json": {
       "model_id": "374bce42997745b18b96a84fe9c3d89d",
       "version_major": 2,
       "version_minor": 0
      },
      "text/plain": [
       "Predicting: 0it [00:00, ?it/s]"
      ]
     },
     "metadata": {},
     "output_type": "display_data"
    }
   ],
   "source": [
    "predictions = trainer.predict(model, dataloader, batch_embedding=['cell_type_ontology_term_id', 'disease_ontology_term_id', 'self_reported_ethnicity_ontology_term_id', 'sex_ontology_term_id'])"
   ]
  },
  {
   "cell_type": "code",
   "execution_count": 84,
   "metadata": {},
   "outputs": [
    {
     "data": {
      "text/plain": [
       "[{'cell_emb': tensor([[-0.3292,  0.0631,  4.8392,  ..., -0.9505, -0.3213,  5.4364],\n",
       "          [-0.3286,  0.0621,  4.8401,  ..., -0.9514, -0.3214,  5.4416],\n",
       "          [-0.3289,  0.0626,  4.8396,  ..., -0.9511, -0.3214,  5.4394],\n",
       "          ...,\n",
       "          [-0.3287,  0.0624,  4.8397,  ..., -0.9514, -0.3214,  5.4413],\n",
       "          [-0.3288,  0.0626,  4.8397,  ..., -0.9511, -0.3213,  5.4406],\n",
       "          [-0.3292,  0.0629,  4.8394,  ..., -0.9507, -0.3213,  5.4371]])},\n",
       " {'cell_emb': tensor([[-0.3292,  0.0630,  4.8392,  ..., -0.9507, -0.3213,  5.4373],\n",
       "          [-0.3265,  0.0583,  4.8455,  ..., -0.9488, -0.3219,  5.4492],\n",
       "          [-0.3266,  0.0586,  4.8472,  ..., -0.9488, -0.3214,  5.4499],\n",
       "          ...,\n",
       "          [-0.3291,  0.0626,  4.8396,  ..., -0.9511, -0.3213,  5.4381],\n",
       "          [-0.3292,  0.0631,  4.8392,  ..., -0.9504, -0.3213,  5.4368],\n",
       "          [-0.3283,  0.0619,  4.8401,  ..., -0.9518, -0.3214,  5.4438]])},\n",
       " {'cell_emb': tensor([[-0.3291,  0.0628,  4.8394,  ..., -0.9508, -0.3213,  5.4380],\n",
       "          [-0.3292,  0.0630,  4.8393,  ..., -0.9506, -0.3213,  5.4364],\n",
       "          [-0.3290,  0.0628,  4.8394,  ..., -0.9508, -0.3213,  5.4390],\n",
       "          ...,\n",
       "          [-0.3290,  0.0626,  4.8395,  ..., -0.9511, -0.3213,  5.4385],\n",
       "          [-0.3288,  0.0626,  4.8397,  ..., -0.9512, -0.3213,  5.4409],\n",
       "          [-0.3278,  0.0614,  4.8404,  ..., -0.9522, -0.3215,  5.4470]])}]"
      ]
     },
     "execution_count": 84,
     "metadata": {},
     "output_type": "execute_result"
    }
   ],
   "source": [
    "predictions"
   ]
  },
  {
   "cell_type": "code",
   "execution_count": null,
   "metadata": {},
   "outputs": [],
   "source": [
    "adata.X.iloc[0].to_array()"
   ]
  },
  {
   "cell_type": "code",
   "execution_count": 85,
   "metadata": {},
   "outputs": [],
   "source": [
    "for i in dataloader:\n",
    "    break"
   ]
  },
  {
   "cell_type": "code",
   "execution_count": 86,
   "metadata": {},
   "outputs": [
    {
     "data": {
      "text/plain": [
       "{'x': tensor([[8.0570e+02, 3.7636e+01, 2.0824e+01,  ..., 0.0000e+00, 0.0000e+00,\n",
       "          0.0000e+00],\n",
       "         [1.4196e+03, 1.0631e+02, 8.7340e+01,  ..., 0.0000e+00, 0.0000e+00,\n",
       "          0.0000e+00],\n",
       "         [6.1688e+02, 1.0330e+02, 5.1928e+01,  ..., 0.0000e+00, 0.0000e+00,\n",
       "          0.0000e+00],\n",
       "         ...,\n",
       "         [8.5708e+02, 1.8352e+02, 6.7065e+01,  ..., 0.0000e+00, 0.0000e+00,\n",
       "          0.0000e+00],\n",
       "         [1.1383e+03, 1.0647e+03, 3.3937e+02,  ..., 0.0000e+00, 0.0000e+00,\n",
       "          0.0000e+00],\n",
       "         [1.4196e+03, 4.8834e+02, 1.4376e+02,  ..., 0.0000e+00, 0.0000e+00,\n",
       "          1.0020e+00]]),\n",
       " 'genes': tensor([[ 3569, 12052,  9861,  ..., 25441,  9807, 27689],\n",
       "         [ 3569,  1736, 24050,  ..., 21362,  8343, 26797],\n",
       "         [ 3569,  1709,  1736,  ..., 28036, 20981,  6876],\n",
       "         ...,\n",
       "         [ 3569,  1736, 15005,  ..., 16754, 10537, 27996],\n",
       "         [ 3569,  1736, 11387,  ..., 21687, 12838, 14328],\n",
       "         [ 3569,  1736,  4758,  ...,   202, 13855,  6943]], dtype=torch.int32),\n",
       " 'class': tensor([], size=(32, 0), dtype=torch.int32),\n",
       " 'tp': tensor([0., 0., 0., 0., 0., 0., 0., 0., 0., 0., 0., 0., 0., 0., 0., 0., 0., 0., 0., 0., 0., 0., 0., 0.,\n",
       "         0., 0., 0., 0., 0., 0., 0., 0.]),\n",
       " 'depth': tensor([ 3921.6360, 10230.4736,  4730.7207,  5925.4878,  4619.6372,  3791.4478,\n",
       "         10166.4678,  4982.3374,  4581.4976, 19984.0371, 13357.9043,  4758.6553,\n",
       "          6788.6089,  8021.7163,  6790.5503,  8521.3867, 11694.7314,  3745.2136,\n",
       "         28087.2285,  8219.4785, 27694.8164, 37151.0352, 15806.3027, 21836.5664,\n",
       "          9745.5879, 10104.9434, 11147.3457, 14739.1250, 15403.9990, 10558.0625,\n",
       "         37987.2188, 17244.7695])}"
      ]
     },
     "execution_count": 86,
     "metadata": {},
     "output_type": "execute_result"
    }
   ],
   "source": [
    "i"
   ]
  },
  {
   "cell_type": "code",
   "execution_count": null,
   "metadata": {},
   "outputs": [],
   "source": [
    "model"
   ]
  },
  {
   "cell_type": "markdown",
   "metadata": {},
   "source": [
    "## results from running it on most famous methods"
   ]
  },
  {
   "cell_type": "markdown",
   "metadata": {},
   "source": [
    "![](https://scib-metrics.readthedocs.io/en/stable/_images/72bdb33d77de77ce505e24fef1d700c2b91985b1d3fcce1c2b1dd7a35c8a647f.png)"
   ]
  },
  {
   "cell_type": "code",
   "execution_count": null,
   "metadata": {},
   "outputs": [],
   "source": [
    "## load a random dataset"
   ]
  },
  {
   "cell_type": "code",
   "execution_count": null,
   "metadata": {},
   "outputs": [],
   "source": [
    "## do scGPT finetuning task (reusing the helper functions I have) and the notebook that they provide"
   ]
  },
  {
   "cell_type": "code",
   "execution_count": null,
   "metadata": {},
   "outputs": [],
   "source": [
    "## create a task/function for scPrint"
   ]
  },
  {
   "cell_type": "code",
   "execution_count": null,
   "metadata": {},
   "outputs": [],
   "source": [
    "## try to do an embedding from the regulon / single cell type matrix outputted by scenic"
   ]
  },
  {
   "cell_type": "code",
   "execution_count": null,
   "metadata": {},
   "outputs": [],
   "source": [
    "## push it to a function on BenGRN"
   ]
  },
  {
   "cell_type": "code",
   "execution_count": null,
   "metadata": {},
   "outputs": [],
   "source": []
  }
 ],
 "metadata": {
  "kernelspec": {
   "display_name": "scprint",
   "language": "python",
   "name": "python3"
  },
  "language_info": {
   "codemirror_mode": {
    "name": "ipython",
    "version": 3
   },
   "file_extension": ".py",
   "mimetype": "text/x-python",
   "name": "python",
   "nbconvert_exporter": "python",
   "pygments_lexer": "ipython3",
   "version": "3.10.0"
  }
 },
 "nbformat": 4,
 "nbformat_minor": 2
}
